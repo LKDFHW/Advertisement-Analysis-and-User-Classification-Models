{
 "cells": [
  {
   "cell_type": "markdown",
   "metadata": {},
   "source": [
    "# <p style=\"text-align:center;\">Xây dựng mô hình dự đoán</p>"
   ]
  },
  {
   "cell_type": "code",
   "execution_count": null,
   "metadata": {},
   "outputs": [],
   "source": [
    "import pandas as pd\n",
    "import numpy as np\n",
    "\n",
    "import matplotlib.pyplot as plt\n",
    "\n",
    "from sklearn.preprocessing import OneHotEncoder, StandardScaler\n",
    "from sklearn.compose import ColumnTransformer\n",
    "from sklearn.pipeline import Pipeline\n",
    "\n",
    "from sklearn.model_selection import train_test_split, GridSearchCV\n",
    "from sklearn.tree import DecisionTreeClassifier\n",
    "from sklearn.ensemble import RandomForestClassifier, GradientBoostingClassifier\n",
    "\n",
    "from sklearn.metrics import classification_report, mean_absolute_error, r2_score, mean_squared_error"
   ]
  },
  {
   "cell_type": "code",
   "execution_count": 12,
   "metadata": {},
   "outputs": [
    {
     "name": "stdout",
     "output_type": "stream",
     "text": [
      "<class 'pandas.core.frame.DataFrame'>\n",
      "RangeIndex: 990 entries, 0 to 989\n",
      "Data columns (total 10 columns):\n",
      " #   Column                    Non-Null Count  Dtype  \n",
      "---  ------                    --------------  -----  \n",
      " 0   Daily Time Spent on Site  990 non-null    float64\n",
      " 1   Age                       990 non-null    float64\n",
      " 2   Area Income               990 non-null    float64\n",
      " 3   Daily Internet Usage      990 non-null    float64\n",
      " 4   Ad Topic Line             990 non-null    object \n",
      " 5   City                      990 non-null    object \n",
      " 6   Male                      990 non-null    int64  \n",
      " 7   Country                   990 non-null    object \n",
      " 8   Timestamp                 990 non-null    object \n",
      " 9   Clicked on Ad             990 non-null    int64  \n",
      "dtypes: float64(4), int64(2), object(4)\n",
      "memory usage: 77.5+ KB\n"
     ]
    }
   ],
   "source": [
    "df = pd.read_csv('../data/2425_QC_processed.csv')\n",
    "df.info()"
   ]
  },
  {
   "cell_type": "code",
   "execution_count": 13,
   "metadata": {},
   "outputs": [
    {
     "name": "stdout",
     "output_type": "stream",
     "text": [
      "<class 'pandas.core.frame.DataFrame'>\n",
      "RangeIndex: 990 entries, 0 to 989\n",
      "Data columns (total 6 columns):\n",
      " #   Column                    Non-Null Count  Dtype  \n",
      "---  ------                    --------------  -----  \n",
      " 0   Daily Time Spent on Site  990 non-null    float64\n",
      " 1   Age                       990 non-null    float64\n",
      " 2   Area Income               990 non-null    float64\n",
      " 3   Daily Internet Usage      990 non-null    float64\n",
      " 4   Male                      990 non-null    int64  \n",
      " 5   Clicked on Ad             990 non-null    int64  \n",
      "dtypes: float64(4), int64(2)\n",
      "memory usage: 46.5 KB\n"
     ]
    }
   ],
   "source": [
    "# Drop các cột categorical\n",
    "df = df.select_dtypes(['number']) \n",
    "df.info()"
   ]
  },
  {
   "cell_type": "code",
   "execution_count": 14,
   "metadata": {},
   "outputs": [],
   "source": [
    "# Chia thành phần features và target\n",
    "X = df.drop('Clicked on Ad', axis=1)\n",
    "y = df['Clicked on Ad']\n",
    "\n",
    "# Chia tập train và test\n",
    "X_train, X_test, y_train, y_test = train_test_split(X, y, test_size=0.2, random_state= 42)"
   ]
  },
  {
   "cell_type": "code",
   "execution_count": 15,
   "metadata": {},
   "outputs": [],
   "source": [
    "# Chia thành 2 tập categorical và numerical để transform\n",
    "categorical_fts = X.select_dtypes(include=[\"object\"]).columns.tolist()\n",
    "\n",
    "numerical_fts = X.select_dtypes(include=[\"number\"]).columns.tolist()"
   ]
  },
  {
   "cell_type": "code",
   "execution_count": 16,
   "metadata": {},
   "outputs": [],
   "source": [
    "# Mã hóa categorical feature và scale numerical feature\n",
    "preprocessor = ColumnTransformer(\n",
    "   transformers=[\n",
    "       (\"cat\", OneHotEncoder(), categorical_fts),\n",
    "       (\"num\", StandardScaler(), numerical_fts),\n",
    "   ]\n",
    ")"
   ]
  },
  {
   "cell_type": "code",
   "execution_count": 17,
   "metadata": {},
   "outputs": [],
   "source": [
    "# Tạo dict chứa điểm đánh giá các model\n",
    "metrics_score = {}"
   ]
  },
  {
   "cell_type": "markdown",
   "metadata": {},
   "source": [
    "## <p style=\"text-align:center;\">Decision Tree</p>"
   ]
  },
  {
   "cell_type": "code",
   "execution_count": 18,
   "metadata": {},
   "outputs": [],
   "source": [
    "# Tạo pipeline\n",
    "pipeline = Pipeline(\n",
    "   [\n",
    "       (\"preprocessor\", preprocessor),\n",
    "       (\"classifier\", DecisionTreeClassifier(random_state= 42)),\n",
    "   ]\n",
    ")"
   ]
  },
  {
   "cell_type": "code",
   "execution_count": 19,
   "metadata": {},
   "outputs": [
    {
     "name": "stdout",
     "output_type": "stream",
     "text": [
      "Decision Tree:\n",
      "              precision    recall  f1-score   support\n",
      "\n",
      "           0       0.94      0.96      0.95        99\n",
      "           1       0.96      0.94      0.95        99\n",
      "\n",
      "    accuracy                           0.95       198\n",
      "   macro avg       0.95      0.95      0.95       198\n",
      "weighted avg       0.95      0.95      0.95       198\n",
      "\n"
     ]
    }
   ],
   "source": [
    "# Parameters\n",
    "param_grid = {\n",
    "    'max_depth': [5, 10, 20]\n",
    "}\n",
    "\n",
    "# Fit model bằng tập train\n",
    "best_dt_model = GridSearchCV(pipeline['classifier'], param_grid= param_grid, cv= 5)\n",
    "\n",
    "best_dt_model.fit(X_train, y_train)\n",
    "\n",
    "# Dự đoán trên tập test\n",
    "y_pred = best_dt_model.predict(X_test)\n",
    "\n",
    "# Tạo report\n",
    "report = classification_report(y_test, y_pred, output_dict= True)\n",
    "\n",
    "# Đánh giá bằng các regression metric\n",
    "mae = mean_absolute_error(y_test, y_pred)\n",
    "r2 = r2_score(y_test, y_pred)\n",
    "rmse = np.sqrt(mean_squared_error(y_test, y_pred))\n",
    "\n",
    "precision = report['weighted avg']['precision']\n",
    "recall = report['weighted avg']['recall']\n",
    "f1 = report['weighted avg']['f1-score']\n",
    "\n",
    "metrics_score['Decision Tree'] = {\"MAE\": mae, \"R²\": r2, \"RMSE\": rmse,\n",
    "                                      \"precision\": precision, \"recall\": recall, \"f1-score\": f1}\n",
    "\n",
    "print(\"Decision Tree:\")\n",
    "print(classification_report(y_test, y_pred))"
   ]
  },
  {
   "cell_type": "code",
   "execution_count": 20,
   "metadata": {},
   "outputs": [
    {
     "data": {
      "image/png": "[encoded data removed]",
      "text/plain": [
       "<Figure size 640x480 with 1 Axes>"
      ]
     },
     "metadata": {},
     "output_type": "display_data"
    }
   ],
   "source": [
    "# Kiểm tra sự ảnh hưởng của các thuộc tính đối với mô hình\n",
    "feat_importances = pd.Series(best_dt_model.best_estimator_.feature_importances_, index= X_train.columns)\n",
    "feat_importances.plot(kind='barh')\n",
    "\n",
    "for index, value in enumerate(feat_importances):\n",
    "    value = round(value, 3)\n",
    "    plt.text(value, index, str(value))\n",
    " \n",
    "plt.show()"
   ]
  },
  {
   "cell_type": "markdown",
   "metadata": {},
   "source": [
    "- Dựa trên biểu đồ, có thể thấy thuộc tính `Area Income` có ảnh hưởng không đáng kể đến mô hình `Decision Tree`.\n",
    "- Đối với mô hình `Decision Tree`, chỉ có 2 thuộc tính `Daily Internet Usage` và `Daily Time Spent on Site` là có tương quan đáng kể đối với việc dự đoán khả năng   \n",
    "click/không vào quảng cáo."
   ]
  },
  {
   "cell_type": "markdown",
   "metadata": {},
   "source": [
    "## <p style=\"text-align:center;\">Random Forest</p>"
   ]
  },
  {
   "cell_type": "code",
   "execution_count": 21,
   "metadata": {},
   "outputs": [],
   "source": [
    "# Tạo pipeline\n",
    "pipeline = Pipeline(\n",
    "   [\n",
    "       (\"preprocessor\", preprocessor),\n",
    "       (\"classifier\", RandomForestClassifier(random_state= 42)),\n",
    "   ]\n",
    ")"
   ]
  },
  {
   "cell_type": "code",
   "execution_count": 22,
   "metadata": {},
   "outputs": [
    {
     "name": "stderr",
     "output_type": "stream",
     "text": [
      "c:\\Users\\ADMIN\\AppData\\Local\\Programs\\Python\\Python312\\Lib\\site-packages\\numpy\\ma\\core.py:2881: RuntimeWarning: invalid value encountered in cast\n",
      "  _data = np.array(data, dtype=dtype, copy=copy,\n"
     ]
    },
    {
     "name": "stdout",
     "output_type": "stream",
     "text": [
      "Random Forest:\n",
      "              precision    recall  f1-score   support\n",
      "\n",
      "           0       0.97      0.97      0.97        99\n",
      "           1       0.97      0.97      0.97        99\n",
      "\n",
      "    accuracy                           0.97       198\n",
      "   macro avg       0.97      0.97      0.97       198\n",
      "weighted avg       0.97      0.97      0.97       198\n",
      "\n"
     ]
    }
   ],
   "source": [
    "# Parameters\n",
    "param_grid = {\n",
    "    'n_estimators': [50, 200, 500],\n",
    "    'max_depth': [5, 10, 20]\n",
    "}\n",
    "\n",
    "# Fit model bằng tập train\n",
    "best_rf_model = GridSearchCV(pipeline['classifier'], param_grid= param_grid, cv= 5)\n",
    "\n",
    "best_rf_model.fit(X_train, y_train)\n",
    "\n",
    "# Dự đoán trên tập test\n",
    "y_pred = best_rf_model.predict(X_test)\n",
    "\n",
    "# Tạo report\n",
    "report = classification_report(y_test, y_pred, output_dict= True)\n",
    "\n",
    "# Đánh giá bằng các regression metric\n",
    "mae = mean_absolute_error(y_test, y_pred)\n",
    "r2 = r2_score(y_test, y_pred)\n",
    "rmse = np.sqrt(mean_squared_error(y_test, y_pred))\n",
    "\n",
    "precision = report['weighted avg']['precision']\n",
    "recall = report['weighted avg']['recall']\n",
    "f1 = report['weighted avg']['f1-score']\n",
    "\n",
    "metrics_score['Random Forest'] = {\"MAE\": mae, \"R²\": r2, \"RMSE\": rmse,\n",
    "                                      \"precision\": precision, \"recall\": recall, \"f1-score\": f1}\n",
    "\n",
    "print(\"Random Forest:\")\n",
    "print(classification_report(y_test, y_pred))"
   ]
  },
  {
   "cell_type": "code",
   "execution_count": 23,
   "metadata": {},
   "outputs": [
    {
     "data": {
      "image/png": "[encoded data removed]",
      "text/plain": [
       "<Figure size 640x480 with 1 Axes>"
      ]
     },
     "metadata": {},
     "output_type": "display_data"
    }
   ],
   "source": [
    "# Kiểm tra sự ảnh hưởng của các thuộc tính đối với mô hình\n",
    "feat_importances = pd.Series(best_rf_model.best_estimator_.feature_importances_, index= X_train.columns)\n",
    "feat_importances.plot(kind='barh')\n",
    "\n",
    "for index, value in enumerate(feat_importances):\n",
    "    value = round(value, 3)\n",
    "    plt.text(value, index, str(value))\n",
    " \n",
    "plt.show()"
   ]
  },
  {
   "cell_type": "markdown",
   "metadata": {},
   "source": [
    "- Dựa trên biểu đồ, có thể thấy thuộc tính `Area Income` có ảnh hưởng đáng kể đến mô hình `Random Forest`.\n",
    "- Đối với mô hình `Random Forest`, chỉ có duy nhất thuộc tính `Male` là không có sự tương quan đáng kể đối với việc dự đoán khả năng \n",
    "click/không vào quảng cáo."
   ]
  },
  {
   "cell_type": "markdown",
   "metadata": {},
   "source": [
    "## <p style=\"text-align:center;\">Gradient Boosting</p>"
   ]
  },
  {
   "cell_type": "code",
   "execution_count": 24,
   "metadata": {},
   "outputs": [],
   "source": [
    "# Tạo pipeline\n",
    "pipeline = Pipeline(\n",
    "   [\n",
    "       (\"preprocessor\", preprocessor),\n",
    "       (\"classifier\", GradientBoostingClassifier(random_state=42)),\n",
    "   ]\n",
    ")"
   ]
  },
  {
   "cell_type": "code",
   "execution_count": 25,
   "metadata": {},
   "outputs": [
    {
     "name": "stdout",
     "output_type": "stream",
     "text": [
      "Gradient Boosting:\n",
      "              precision    recall  f1-score   support\n",
      "\n",
      "           0       0.97      0.98      0.97        99\n",
      "           1       0.98      0.97      0.97        99\n",
      "\n",
      "    accuracy                           0.97       198\n",
      "   macro avg       0.97      0.97      0.97       198\n",
      "weighted avg       0.97      0.97      0.97       198\n",
      "\n"
     ]
    }
   ],
   "source": [
    "# Parameters\n",
    "param_grid = {\n",
    "    'n_estimators': [50, 200, 500],\n",
    "    'max_depth': [5, 10, 20]\n",
    "}\n",
    "\n",
    "# Fit model bằng tập train\n",
    "best_gb_model = GridSearchCV(pipeline['classifier'], param_grid= param_grid, cv= 5)\n",
    "\n",
    "best_gb_model.fit(X_train, y_train)\n",
    "\n",
    "# Dự đoán trên tập test\n",
    "y_pred = best_gb_model.predict(X_test)\n",
    "\n",
    "# Tạo report\n",
    "report = classification_report(y_test, y_pred, output_dict= True)\n",
    "\n",
    "# Đánh giá bằng các regression metric\n",
    "mae = mean_absolute_error(y_test, y_pred)\n",
    "r2 = r2_score(y_test, y_pred)\n",
    "rmse = np.sqrt(mean_squared_error(y_test, y_pred))\n",
    "\n",
    "precision = report['weighted avg']['precision']\n",
    "recall = report['weighted avg']['recall']\n",
    "f1 = report['weighted avg']['f1-score']\n",
    "\n",
    "metrics_score['Gradient Boosting'] = {\"MAE\": mae, \"R²\": r2, \"RMSE\": rmse,\n",
    "                                      \"precision\": precision, \"recall\": recall, \"f1-score\": f1}\n",
    "\n",
    "print(\"Gradient Boosting:\")\n",
    "print(classification_report(y_test, y_pred))"
   ]
  },
  {
   "cell_type": "code",
   "execution_count": 26,
   "metadata": {},
   "outputs": [
    {
     "data": {
      "image/png": "[encoded data removed]",
      "text/plain": [
       "<Figure size 640x480 with 1 Axes>"
      ]
     },
     "metadata": {},
     "output_type": "display_data"
    }
   ],
   "source": [
    "# Kiểm tra sự ảnh hưởng của các thuộc tính đối với mô hình\n",
    "feat_importances = pd.Series(best_gb_model.best_estimator_.feature_importances_, index= X_train.columns)\n",
    "feat_importances.plot(kind='barh')\n",
    "\n",
    "for index, value in enumerate(feat_importances):\n",
    "    value = round(value, 3)\n",
    "    plt.text(value, index, str(value))\n",
    " \n",
    "plt.show()"
   ]
  },
  {
   "cell_type": "markdown",
   "metadata": {},
   "source": [
    "- Dựa trên biểu đồ, có thể thấy thuộc tính `Area Income` có ảnh hưởng không đáng kể đến mô hình `Gradient Boosting`.\n",
    "- Đối với mô hình `Gradient Boosting`, có 2 thuộc tính `Daily Internet Usage` và `Daily Time Spent on Site` là có sự tương quan đáng kể đối với việc dự đoán khả năng   \n",
    "click/không vào quảng cáo."
   ]
  },
  {
   "cell_type": "markdown",
   "metadata": {},
   "source": [
    "## <p style=\"text-align:center;\">So sánh</p>"
   ]
  },
  {
   "cell_type": "code",
   "execution_count": 27,
   "metadata": {},
   "outputs": [
    {
     "data": {
      "text/html": [
       "<div>\n",
       "<style scoped>\n",
       "    .dataframe tbody tr th:only-of-type {\n",
       "        vertical-align: middle;\n",
       "    }\n",
       "\n",
       "    .dataframe tbody tr th {\n",
       "        vertical-align: top;\n",
       "    }\n",
       "\n",
       "    .dataframe thead th {\n",
       "        text-align: right;\n",
       "    }\n",
       "</style>\n",
       "<table border=\"1\" class=\"dataframe\">\n",
       "  <thead>\n",
       "    <tr style=\"text-align: right;\">\n",
       "      <th></th>\n",
       "      <th>MAE</th>\n",
       "      <th>R²</th>\n",
       "      <th>RMSE</th>\n",
       "      <th>precision</th>\n",
       "      <th>recall</th>\n",
       "      <th>f1-score</th>\n",
       "    </tr>\n",
       "  </thead>\n",
       "  <tbody>\n",
       "    <tr>\n",
       "      <th>Decision Tree</th>\n",
       "      <td>0.050505</td>\n",
       "      <td>0.797980</td>\n",
       "      <td>0.224733</td>\n",
       "      <td>0.949678</td>\n",
       "      <td>0.949495</td>\n",
       "      <td>0.949490</td>\n",
       "    </tr>\n",
       "    <tr>\n",
       "      <th>Random Forest</th>\n",
       "      <td>0.030303</td>\n",
       "      <td>0.878788</td>\n",
       "      <td>0.174078</td>\n",
       "      <td>0.969697</td>\n",
       "      <td>0.969697</td>\n",
       "      <td>0.969697</td>\n",
       "    </tr>\n",
       "    <tr>\n",
       "      <th>Gradient Boosting</th>\n",
       "      <td>0.025253</td>\n",
       "      <td>0.898990</td>\n",
       "      <td>0.158910</td>\n",
       "      <td>0.974796</td>\n",
       "      <td>0.974747</td>\n",
       "      <td>0.974747</td>\n",
       "    </tr>\n",
       "  </tbody>\n",
       "</table>\n",
       "</div>"
      ],
      "text/plain": [
       "                        MAE        R²      RMSE  precision    recall  f1-score\n",
       "Decision Tree      0.050505  0.797980  0.224733   0.949678  0.949495  0.949490\n",
       "Random Forest      0.030303  0.878788  0.174078   0.969697  0.969697  0.969697\n",
       "Gradient Boosting  0.025253  0.898990  0.158910   0.974796  0.974747  0.974747"
      ]
     },
     "metadata": {},
     "output_type": "display_data"
    }
   ],
   "source": [
    "results_df = pd.DataFrame(metrics_score).T\n",
    "display(results_df)"
   ]
  },
  {
   "cell_type": "markdown",
   "metadata": {},
   "source": [
    "- Dựa trên các cột điểm đánh giá, có thể kết luận `Gradient Boosting` là mô hình có khả năng dự đoán tốt nhất trong 3 mô hình."
   ]
  }
 ],
 "metadata": {
  "kernelspec": {
   "display_name": "Python 3",
   "language": "python",
   "name": "python3"
  },
  "language_info": {
   "codemirror_mode": {
    "name": "ipython",
    "version": 3
   },
   "file_extension": ".py",
   "mimetype": "text/x-python",
   "name": "python",
   "nbconvert_exporter": "python",
   "pygments_lexer": "ipython3",
   "version": "3.12.6"
  }
 },
 "nbformat": 4,
 "nbformat_minor": 2
}
