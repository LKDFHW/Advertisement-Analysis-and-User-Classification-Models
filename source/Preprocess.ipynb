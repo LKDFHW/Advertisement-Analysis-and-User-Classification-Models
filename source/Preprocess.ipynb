{
 "cells": [
  {
   "cell_type": "code",
   "execution_count": null,
   "metadata": {},
   "outputs": [],
   "source": [
    "import pandas as pd\n",
    "import numpy as np\n",
    "import matplotlib.pyplot as plt\n",
    "import seaborn as sns"
   ]
  },
  {
   "cell_type": "code",
   "execution_count": null,
   "metadata": {},
   "outputs": [
    {
     "name": "stdout",
     "output_type": "stream",
     "text": [
      "Số lượng missing values trong mỗi cột:\n",
      "Daily Time Spent on Site    0\n",
      "Age                         1\n",
      "Area Income                 0\n",
      "Daily Internet Usage        0\n",
      "Ad Topic Line               0\n",
      "City                        0\n",
      "Male                        0\n",
      "Country                     0\n",
      "Timestamp                   0\n",
      "Clicked on Ad               0\n",
      "dtype: int64\n"
     ]
    }
   ],
   "source": [
    "# Kiểm tra dữ liệu bị thiếu\n",
    "missing_values = df.isnull().sum()\n",
    "print(\"Số lượng missing values trong mỗi cột:\")\n",
    "print(missing_values)"
   ]
  },
  {
   "cell_type": "code",
   "execution_count": null,
   "metadata": {},
   "outputs": [
    {
     "name": "stdout",
     "output_type": "stream",
     "text": [
      "Dòng bị trùng lặp:\n",
      "0       False\n",
      "1       False\n",
      "2       False\n",
      "3       False\n",
      "4       False\n",
      "        ...  \n",
      "997     False\n",
      "998     False\n",
      "999     False\n",
      "1000    False\n",
      "1001     True\n",
      "Length: 1002, dtype: bool\n",
      "Số lượng dòng bị trùng lặp: 2\n"
     ]
    }
   ],
   "source": [
    "# Kiểm tra dòng bị trùng lặp\n",
    "duplicates = df.duplicated()\n",
    "print(\"Dòng bị trùng lặp:\")\n",
    "print(duplicates)\n",
    "\n",
    "# Số lượng dòng bị trùng lặp\n",
    "print(\"Số lượng dòng bị trùng lặp:\", duplicates.sum())"
   ]
  },
  {
   "cell_type": "code",
   "execution_count": null,
   "metadata": {},
   "outputs": [
    {
     "data": {
      "text/plain": [
       "Clicked on Ad\n",
       "0    50.0\n",
       "1    50.0\n",
       "Name: proportion, dtype: float64"
      ]
     },
     "metadata": {},
     "output_type": "display_data"
    }
   ],
   "source": [
    "# Kiểm tra sự cân bằng của \"Clicked on Ad\"\n",
    "label_balance = df['Clicked on Ad'].value_counts(normalize=True) * 100\n",
    "\n",
    "label_balance"
   ]
  },
  {
   "cell_type": "code",
   "execution_count": null,
   "metadata": {},
   "outputs": [
    {
     "name": "stdout",
     "output_type": "stream",
     "text": [
      "Dữ liệu sau khi xử lý outlier:\n",
      "      Daily Time Spent on Site   Age  Area Income  Daily Internet Usage  \\\n",
      "0                        68.95  35.0     61833.90                256.09   \n",
      "1                        80.23  31.0     68441.85                193.77   \n",
      "2                        69.47  26.0     59785.94                236.50   \n",
      "3                        74.15  29.0     54806.18                245.89   \n",
      "4                        68.37  35.0     73889.99                225.58   \n",
      "...                        ...   ...          ...                   ...   \n",
      "996                      72.97  30.0     71384.57                208.58   \n",
      "997                      51.30  45.0     67782.17                134.42   \n",
      "998                      51.63  51.0     42415.72                120.37   \n",
      "999                      55.55  19.0     41920.79                187.95   \n",
      "1000                     45.01  35.0     29875.80                178.35   \n",
      "\n",
      "                              Ad Topic Line            City  Male  \\\n",
      "0        Cloned 5thgeneration orchestration     Wrightburgh     0   \n",
      "1        Monitored national standardization       West Jodi     1   \n",
      "2          Organic bottom-line service-desk        Davidton     0   \n",
      "3     Triple-buffered reciprocal time-frame  West Terrifurt     1   \n",
      "4             Robust logistical utilization    South Manuel     0   \n",
      "...                                     ...             ...   ...   \n",
      "996           Fundamental modular algorithm       Duffystad     1   \n",
      "997         Grass-roots cohesive monitoring     New Darlene     1   \n",
      "998            Expanded intangible solution   South Jessica     1   \n",
      "999    Proactive bandwidth-monitored policy     West Steven     0   \n",
      "1000        Virtual 5thgeneration emulation     Ronniemouth     0   \n",
      "\n",
      "                     Country        Timestamp  Clicked on Ad  \n",
      "0                    Tunisia   27/3/2016 0:53              0  \n",
      "1                      Nauru    4/4/2016 1:39              0  \n",
      "2                 San Marino  13/3/2016 20:35              0  \n",
      "3                      Italy   10/1/2016 2:31              0  \n",
      "4                    Iceland    3/6/2016 3:36              0  \n",
      "...                      ...              ...            ...  \n",
      "996                  Lebanon  11/2/2016 21:49              1  \n",
      "997   Bosnia and Herzegovina   22/4/2016 2:07              1  \n",
      "998                 Mongolia   1/2/2016 17:24              1  \n",
      "999                Guatemala   24/3/2016 2:35              0  \n",
      "1000                  Brazil   3/6/2016 21:43              1  \n",
      "\n",
      "[991 rows x 10 columns]\n"
     ]
    }
   ],
   "source": [
    "# Bỏ dòng bị trùng lặp\n",
    "df_cleaned = df.drop_duplicates()\n",
    "\n",
    "# Điền missing values bằng median\n",
    "median_age = df_cleaned['Age'].median()\n",
    "df_cleaned.loc[:, 'Age'] = df_cleaned['Age'].fillna(median_age)\n",
    "\n",
    "# Tính IQR\n",
    "Q1 = df_cleaned['Area Income'].quantile(0.25)\n",
    "Q3 = df_cleaned['Area Income'].quantile(0.75)\n",
    "IQR = Q3 - Q1\n",
    "\n",
    "# Xác định giới hạn\n",
    "lower_limit = Q1 - 1.5 * IQR\n",
    "upper_limit = Q3 + 1.5 * IQR\n",
    "\n",
    "# Xóa outlier\n",
    "df_cleaned = df_cleaned[(df_cleaned['Area Income'] >= lower_limit) & (df_cleaned['Area Income'] <= upper_limit)]\n",
    "\n",
    "print(\"Dữ liệu sau khi xử lý outlier:\")\n",
    "print(df_cleaned)"
   ]
  }
 ],
 "metadata": {
  "kernelspec": {
   "display_name": "Python 3",
   "language": "python",
   "name": "python3"
  },
  "language_info": {
   "name": "python",
   "version": "3.12.7"
  }
 },
 "nbformat": 4,
 "nbformat_minor": 2
}
