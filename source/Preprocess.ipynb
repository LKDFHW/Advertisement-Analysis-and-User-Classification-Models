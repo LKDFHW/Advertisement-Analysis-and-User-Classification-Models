{
 "cells": [
  {
   "cell_type": "markdown",
   "metadata": {},
   "source": [
    "# <p style=\"text-align:center;\">Preprocess</p>"
   ]
  },
  {
   "cell_type": "code",
   "execution_count": 5,
   "metadata": {},
   "outputs": [],
   "source": [
    "import pandas as pd"
   ]
  },
  {
   "cell_type": "code",
   "execution_count": null,
   "metadata": {},
   "outputs": [],
   "source": [
    "df = pd.read_csv('../data/2425_QC.csv')"
   ]
  },
  {
   "cell_type": "code",
   "execution_count": 7,
   "metadata": {},
   "outputs": [
    {
     "name": "stdout",
     "output_type": "stream",
     "text": [
      "Số lượng missing values trong mỗi cột:\n",
      "Daily Time Spent on Site    0\n",
      "Age                         1\n",
      "Area Income                 0\n",
      "Daily Internet Usage        0\n",
      "Ad Topic Line               0\n",
      "City                        0\n",
      "Male                        0\n",
      "Country                     0\n",
      "Timestamp                   0\n",
      "Clicked on Ad               0\n",
      "dtype: int64\n"
     ]
    }
   ],
   "source": [
    "# Kiểm tra dữ liệu bị thiếu\n",
    "missing_values = df.isnull().sum()\n",
    "print(\"Số lượng missing values trong mỗi cột:\")\n",
    "print(missing_values)"
   ]
  },
  {
   "cell_type": "code",
   "execution_count": 8,
   "metadata": {},
   "outputs": [
    {
     "name": "stdout",
     "output_type": "stream",
     "text": [
      "Dòng bị trùng lặp:\n",
      "0       False\n",
      "1       False\n",
      "2       False\n",
      "3       False\n",
      "4       False\n",
      "        ...  \n",
      "997     False\n",
      "998     False\n",
      "999     False\n",
      "1000    False\n",
      "1001     True\n",
      "Length: 1002, dtype: bool\n",
      "Số lượng dòng bị trùng lặp: 2\n"
     ]
    }
   ],
   "source": [
    "# Kiểm tra dòng bị trùng lặp\n",
    "duplicates = df.duplicated()\n",
    "print(\"Dòng bị trùng lặp:\")\n",
    "print(duplicates)\n",
    "\n",
    "# Số lượng dòng bị trùng lặp\n",
    "print(\"Số lượng dòng bị trùng lặp:\", duplicates.sum())"
   ]
  },
  {
   "cell_type": "code",
   "execution_count": 9,
   "metadata": {},
   "outputs": [
    {
     "data": {
      "text/plain": [
       "Clicked on Ad\n",
       "0    50.0\n",
       "1    50.0\n",
       "Name: proportion, dtype: float64"
      ]
     },
     "execution_count": 9,
     "metadata": {},
     "output_type": "execute_result"
    }
   ],
   "source": [
    "# Kiểm tra tỉ lệ của cột \"Clicked on Ad\"\n",
    "label_balance = df['Clicked on Ad'].value_counts(normalize=True) * 100\n",
    "\n",
    "label_balance"
   ]
  },
  {
   "cell_type": "code",
   "execution_count": 10,
   "metadata": {},
   "outputs": [
    {
     "name": "stdout",
     "output_type": "stream",
     "text": [
      "Dữ liệu sau khi xử lý outlier:\n",
      "      Daily Time Spent on Site   Age  Area Income  Daily Internet Usage  \\\n",
      "0                        68.95  35.0     61833.90                256.09   \n",
      "1                        80.23  31.0     68441.85                193.77   \n",
      "2                        69.47  26.0     59785.94                236.50   \n",
      "3                        74.15  29.0     54806.18                245.89   \n",
      "4                        68.37  35.0     73889.99                225.58   \n",
      "...                        ...   ...          ...                   ...   \n",
      "996                      72.97  30.0     71384.57                208.58   \n",
      "997                      51.30  45.0     67782.17                134.42   \n",
      "998                      51.63  51.0     42415.72                120.37   \n",
      "999                      55.55  19.0     41920.79                187.95   \n",
      "1000                     45.01  35.0     29875.80                178.35   \n",
      "\n",
      "                              Ad Topic Line            City  Male  \\\n",
      "0        Cloned 5thgeneration orchestration     Wrightburgh     0   \n",
      "1        Monitored national standardization       West Jodi     1   \n",
      "2          Organic bottom-line service-desk        Davidton     0   \n",
      "3     Triple-buffered reciprocal time-frame  West Terrifurt     1   \n",
      "4             Robust logistical utilization    South Manuel     0   \n",
      "...                                     ...             ...   ...   \n",
      "996           Fundamental modular algorithm       Duffystad     1   \n",
      "997         Grass-roots cohesive monitoring     New Darlene     1   \n",
      "998            Expanded intangible solution   South Jessica     1   \n",
      "999    Proactive bandwidth-monitored policy     West Steven     0   \n",
      "1000        Virtual 5thgeneration emulation     Ronniemouth     0   \n",
      "\n",
      "                     Country        Timestamp  Clicked on Ad  \n",
      "0                    Tunisia   27/3/2016 0:53              0  \n",
      "1                      Nauru    4/4/2016 1:39              0  \n",
      "2                 San Marino  13/3/2016 20:35              0  \n",
      "3                      Italy   10/1/2016 2:31              0  \n",
      "4                    Iceland    3/6/2016 3:36              0  \n",
      "...                      ...              ...            ...  \n",
      "996                  Lebanon  11/2/2016 21:49              1  \n",
      "997   Bosnia and Herzegovina   22/4/2016 2:07              1  \n",
      "998                 Mongolia   1/2/2016 17:24              1  \n",
      "999                Guatemala   24/3/2016 2:35              0  \n",
      "1000                  Brazil   3/6/2016 21:43              1  \n",
      "\n",
      "[991 rows x 10 columns]\n"
     ]
    }
   ],
   "source": [
    "# Bỏ dòng bị trùng lặp\n",
    "df = df.drop_duplicates()\n",
    "\n",
    "# Điền missing values bằng median\n",
    "median_age = df['Age'].median()\n",
    "df.loc[:, 'Age'] = df['Age'].fillna(median_age)\n",
    "\n",
    "# Tính IQR\n",
    "Q1 = df['Area Income'].quantile(0.25)\n",
    "Q3 = df['Area Income'].quantile(0.75)\n",
    "IQR = Q3 - Q1\n",
    "\n",
    "# Xác định giới hạn\n",
    "lower_limit = Q1 - 1.5 * IQR\n",
    "upper_limit = Q3 + 1.5 * IQR\n",
    "\n",
    "# Xóa outlier\n",
    "df = df[(df['Area Income'] >= lower_limit) & (df['Area Income'] <= upper_limit)]\n",
    "\n",
    "print(\"Dữ liệu sau khi xử lý outlier:\")\n",
    "print(df)"
   ]
  },
  {
   "cell_type": "code",
   "execution_count": 11,
   "metadata": {},
   "outputs": [
    {
     "name": "stdout",
     "output_type": "stream",
     "text": [
      "<class 'pandas.core.frame.DataFrame'>\n",
      "Index: 991 entries, 0 to 1000\n",
      "Data columns (total 10 columns):\n",
      " #   Column                    Non-Null Count  Dtype  \n",
      "---  ------                    --------------  -----  \n",
      " 0   Daily Time Spent on Site  991 non-null    float64\n",
      " 1   Age                       991 non-null    float64\n",
      " 2   Area Income               991 non-null    float64\n",
      " 3   Daily Internet Usage      991 non-null    float64\n",
      " 4   Ad Topic Line             991 non-null    object \n",
      " 5   City                      991 non-null    object \n",
      " 6   Male                      991 non-null    int64  \n",
      " 7   Country                   991 non-null    object \n",
      " 8   Timestamp                 991 non-null    object \n",
      " 9   Clicked on Ad             991 non-null    int64  \n",
      "dtypes: float64(4), int64(2), object(4)\n",
      "memory usage: 85.2+ KB\n"
     ]
    }
   ],
   "source": [
    "df.info()"
   ]
  },
  {
   "cell_type": "code",
   "execution_count": 12,
   "metadata": {},
   "outputs": [],
   "source": [
    "df['Timestamp'] = pd.to_datetime(df['Timestamp'], format='%d/%m/%Y %H:%M')"
   ]
  },
  {
   "cell_type": "code",
   "execution_count": 13,
   "metadata": {},
   "outputs": [],
   "source": [
    "# Xuất ra file đã xử lý\n",
    "df.to_csv('../data/2425_QC_processed.csv', index= False)"
   ]
  }
 ],
 "metadata": {
  "kernelspec": {
   "display_name": "Python 3",
   "language": "python",
   "name": "python3"
  },
  "language_info": {
   "codemirror_mode": {
    "name": "ipython",
    "version": 3
   },
   "file_extension": ".py",
   "mimetype": "text/x-python",
   "name": "python",
   "nbconvert_exporter": "python",
   "pygments_lexer": "ipython3",
   "version": "3.12.6"
  }
 },
 "nbformat": 4,
 "nbformat_minor": 2
}
